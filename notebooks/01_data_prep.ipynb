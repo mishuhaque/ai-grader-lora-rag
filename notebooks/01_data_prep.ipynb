{
 "cells": [
  {
   "cell_type": "code",
   "execution_count": null,
   "id": "9783a21e",
   "metadata": {
    "vscode": {
     "languageId": "plaintext"
    }
   },
   "outputs": [],
   "source": [
    "# notebooks/01_data_prep.ipynb\n",
    "\n",
    "# 1. Install deps (only needed in Colab/Jupyter)\n",
    "# !pip install sentence-transformers faiss-cpu langchain\n",
    "\n",
    "from langchain.text_splitter import RecursiveCharacterTextSplitter\n",
    "from langchain.vectorstores import FAISS\n",
    "from langchain.embeddings import HuggingFaceEmbeddings\n",
    "import os\n",
    "\n",
    "# 2. Example lecture/rubric text (replace with real data later)\n",
    "documents = [\n",
    "    \"Polymorphism allows objects to take many forms in object-oriented programming.\",\n",
    "    \"Encapsulation is the concept of bundling data and methods together.\",\n",
    "    \"Inheritance allows one class to acquire properties of another class.\"\n",
    "]\n",
    "\n",
    "# 3. Split into chunks\n",
    "splitter = RecursiveCharacterTextSplitter(chunk_size=200, chunk_overlap=20)\n",
    "docs = splitter.create_documents(documents)\n",
    "\n",
    "# 4. Create embeddings\n",
    "embeddings = HuggingFaceEmbeddings(model_name=\"sentence-transformers/all-MiniLM-L6-v2\")\n",
    "\n",
    "# 5. Build FAISS index\n",
    "db = FAISS.from_documents(docs, embeddings)\n",
    "\n",
    "# Save index to disk\n",
    "if not os.path.exists(\"../data\"):\n",
    "    os.makedirs(\"../data\")\n",
    "db.save_local(\"../data/lecture_index\")\n",
    "\n",
    "print(\"✅ Embeddings built and FAISS index saved at ../data/lecture_index\")\n"
   ]
  }
 ],
 "metadata": {
  "language_info": {
   "name": "python"
  }
 },
 "nbformat": 4,
 "nbformat_minor": 5
}
