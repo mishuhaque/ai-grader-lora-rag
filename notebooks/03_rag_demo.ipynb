{
 "cells": [
  {
   "cell_type": "code",
   "execution_count": null,
   "id": "97aa6cf5",
   "metadata": {
    "vscode": {
     "languageId": "plaintext"
    }
   },
   "outputs": [],
   "source": [
    "# notebooks/03_rag_demo.ipynb\n",
    "\n",
    "from langchain.vectorstores import FAISS\n",
    "from langchain.embeddings import HuggingFaceEmbeddings\n",
    "\n",
    "# Load saved index\n",
    "embeddings = HuggingFaceEmbeddings(model_name=\"sentence-transformers/all-MiniLM-L6-v2\")\n",
    "db = FAISS.load_local(\"../data/lecture_index\", embeddings, allow_dangerous_deserialization=True)\n",
    "retriever = db.as_retriever()\n",
    "\n",
    "query = \"What is polymorphism?\"\n",
    "docs = retriever.get_relevant_documents(query)\n",
    "\n",
    "print(\"Q:\", query)\n",
    "print(\"Retrieved Context:\", [d.page_content for d in docs])\n"
   ]
  }
 ],
 "metadata": {
  "language_info": {
   "name": "python"
  }
 },
 "nbformat": 4,
 "nbformat_minor": 5
}
